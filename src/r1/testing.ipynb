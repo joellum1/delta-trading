{
 "cells": [
  {
   "cell_type": "markdown",
   "id": "953d9db0",
   "metadata": {},
   "source": [
    "# Testing file"
   ]
  },
  {
   "cell_type": "code",
   "execution_count": 10,
   "id": "a0901678",
   "metadata": {},
   "outputs": [],
   "source": [
    "# Available imports\n",
    "import pandas as pd\n",
    "import numpy as np\n",
    "import statistics\n",
    "import math"
   ]
  },
  {
   "cell_type": "markdown",
   "id": "4bc50f0e",
   "metadata": {},
   "source": [
    "## Dynamic Programming for **manual trading**"
   ]
  },
  {
   "cell_type": "code",
   "execution_count": 11,
   "id": "07da947a",
   "metadata": {},
   "outputs": [
    {
     "name": "stdout",
     "output_type": "stream",
     "text": [
      "1.08868032\n",
      "\n",
      "Trade #0\n",
      "  Currency 0: ['0.0000', '0.0000', '0.0000', '1.3400']\n",
      "  Currency 1: ['0.0000', '0.0000', '0.0000', '1.9800']\n",
      "  Currency 2: ['0.0000', '0.0000', '0.0000', '0.6400']\n",
      "  Currency 3: ['0.0000', '0.0000', '0.0000', '1.0000']\n",
      "\n",
      "Trade #1\n",
      "  Currency 0: ['1.3400', '1.3860', '1.2480', '1.3400']\n",
      "  Currency 1: ['1.9430', '1.9800', '1.9840', '1.9800']\n",
      "  Currency 2: ['0.6968', '0.6138', '0.6400', '0.6400']\n",
      "  Currency 3: ['0.9648', '0.9504', '0.9536', '1.0000']\n",
      "\n",
      "Trade #2\n",
      "  Currency 0: ['1.3860', '1.3888', '1.3588', '1.3400']\n",
      "  Currency 1: ['2.0097', '1.9840', '2.1601', '1.9800']\n",
      "  Currency 2: ['0.7207', '0.6150', '0.6968', '0.6400']\n",
      "  Currency 3: ['0.9979', '0.9523', '1.0382', '1.0000']\n",
      "\n",
      "Trade #3\n",
      "  Currency 0: ['1.3888', '1.5121', '1.4054', '1.3912']\n",
      "  Currency 1: ['2.0138', '2.1601', '2.2342', '2.0557']\n",
      "  Currency 2: ['0.7222', '0.6696', '0.7207', '0.6645']\n",
      "  Currency 3: ['0.9999', '1.0368', '1.0739', '1.0382']\n",
      "\n",
      "Trade #4\n",
      "  Currency 0: ['0.0000', '0.0000', '0.0000', '0.0000']\n",
      "  Currency 1: ['0.0000', '0.0000', '0.0000', '0.0000']\n",
      "  Currency 2: ['0.0000', '0.0000', '0.0000', '0.0000']\n",
      "  Currency 3: ['1.0887', '1.0724', '1.0760', '1.0739']\n"
     ]
    }
   ],
   "source": [
    "# n = int(input())\n",
    "n = 1\n",
    "\n",
    "trades = [\n",
    "    [1, 1.45, 0.52, 0.72],   # snowballs\n",
    "    [0.7, 1, 0.31, 0.48],    # pizzas\n",
    "    [1.95, 3.1, 1, 1.49],    # silicon nuggets\n",
    "    [1.34, 1.98, 0.64, 1]    # seashells\n",
    "]\n",
    "\n",
    "# store[trade num][current currency][prev currency]\n",
    "store = [[[0.0 for _ in range(4)] for _ in range(4)] for _ in range(5)]\n",
    "\n",
    "# start trading from seashells (index 3)\n",
    "for i in range(4):\n",
    "    store[0][i][3] = trades[3][i]\n",
    "\n",
    "# i + 1 is number of trades: max 5 trades\n",
    "for i in range(1, 4):\n",
    "    for j in range(4):  # current currency\n",
    "        for k in range(4):  # previous currency\n",
    "            for l in range(4):\n",
    "                store[i][j][k] = max(store[i][j][k], store[i-1][k][l] * trades[k][j])\n",
    "\n",
    "# on the last trade, go back to seashells from each currency\n",
    "for i in range(4):\n",
    "    for j in range(4):\n",
    "        store[4][3][i] = max(store[4][3][i], trades[i][3] * store[3][i][j])\n",
    "\n",
    "# find the maximum value after 5 trades\n",
    "max_value = max(store[4][3])\n",
    "print(max_value)\n",
    "\n",
    "# Print store table\n",
    "for t, trade_level in enumerate(store):\n",
    "    print(f\"\\nTrade #{t}\")\n",
    "    for i, row in enumerate(trade_level):\n",
    "        print(f\"  Currency {i}: {['{:.4f}'.format(val) for val in row]}\")"
   ]
  }
 ],
 "metadata": {
  "kernelspec": {
   "display_name": "venv",
   "language": "python",
   "name": "python3"
  },
  "language_info": {
   "codemirror_mode": {
    "name": "ipython",
    "version": 3
   },
   "file_extension": ".py",
   "mimetype": "text/x-python",
   "name": "python",
   "nbconvert_exporter": "python",
   "pygments_lexer": "ipython3",
   "version": "3.12.3"
  }
 },
 "nbformat": 4,
 "nbformat_minor": 5
}
