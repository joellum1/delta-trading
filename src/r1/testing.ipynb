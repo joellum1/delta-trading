{
 "cells": [
  {
   "cell_type": "markdown",
   "id": "0",
   "metadata": {},
   "source": [
    "# Testing file"
   ]
  },
  {
   "cell_type": "code",
   "execution_count": null,
   "id": "1",
   "metadata": {},
   "outputs": [],
   "source": [
    "# Available imports\n",
    "import pandas as pd\n",
    "import numpy as np\n",
    "import statistics\n",
    "import math"
   ]
  },
  {
   "cell_type": "markdown",
   "id": "2",
   "metadata": {},
   "source": [
    "## Dynamic Programming for **manual trading**"
   ]
  },
  {
   "cell_type": "code",
   "execution_count": null,
   "id": "3",
   "metadata": {},
   "outputs": [],
   "source": [
    "# n = int(input())\n",
    "n = 1\n",
    "max_trades = 5\n",
    "num_currencies = 4\n",
    "\n",
    "trades = [\n",
    "    [1, 1.45, 0.52, 0.72],   # snowballs\n",
    "    [0.7, 1, 0.31, 0.48],    # pizzas\n",
    "    [1.95, 3.1, 1, 1.49],    # silicon nuggets\n",
    "    [1.34, 1.98, 0.64, 1]    # seashells\n",
    "]\n",
    "\n",
    "# store[trade num][current currency, prev]\n",
    "store = [[(0.0, 0) for _ in range(num_currencies)] for _ in range(max_trades)]\n",
    "\n",
    "# start trading from seashells\n",
    "for i in range(num_currencies):\n",
    "    store[0][i] = (trades[3][i], 3)\n",
    "\n",
    "# for trade i\n",
    "for i in range(1, max_trades - 1):\n",
    "    # change into currency j\n",
    "    for j in range(num_currencies):\n",
    "        # from currency k\n",
    "        for k in range(num_currencies):\n",
    "            if (store[i - 1][k][0] * trades[k][j] > store[i][j][0]):\n",
    "                store[i][j] = (store[i - 1][k][0] * trades[k][j], k)\n",
    "\n",
    "# trade back to seashells\n",
    "for i in range(num_currencies):\n",
    "    if (store[max_trades - 2][i][0] * trades[i][3] > store[max_trades - 1][i][0]):\n",
    "        store[max_trades - 1][i] = (store[max_trades - 2][i][0] * trades[i][3], i)\n",
    "\n",
    "# print all the trades\n",
    "for t, trade_level in enumerate(store):\n",
    "    print(f\"\\nTrade #{t}\")\n",
    "    for i, trade in enumerate(trade_level):\n",
    "        print(f\"  Currency {i}: {trade[0]} from currency {trade[1]}\")"
   ]
  }
 ],
 "metadata": {
  "kernelspec": {
   "display_name": "venv",
   "language": "python",
   "name": "python3"
  },
  "language_info": {
   "codemirror_mode": {
    "name": "ipython",
    "version": 3
   },
   "file_extension": ".py",
   "mimetype": "text/x-python",
   "name": "python",
   "nbconvert_exporter": "python",
   "pygments_lexer": "ipython3",
   "version": "3.12.3"
  }
 },
 "nbformat": 4,
 "nbformat_minor": 5
}
