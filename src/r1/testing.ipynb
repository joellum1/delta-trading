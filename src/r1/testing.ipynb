{
 "cells": [
  {
   "cell_type": "markdown",
   "id": "953d9db0",
   "metadata": {},
   "source": [
    "# Testing file"
   ]
  },
  {
   "cell_type": "code",
   "execution_count": 7,
   "id": "a0901678",
   "metadata": {},
   "outputs": [],
   "source": [
    "# Available imports\n",
    "import pandas as pd\n",
    "import numpy as np\n",
    "import statistics\n",
    "import math"
   ]
  },
  {
   "cell_type": "markdown",
   "id": "4bc50f0e",
   "metadata": {},
   "source": [
    "## Dynamic Programming for **manual trading**"
   ]
  },
  {
   "cell_type": "code",
   "execution_count": null,
   "id": "07da947a",
   "metadata": {},
   "outputs": [
    {
     "name": "stdout",
     "output_type": "stream",
     "text": [
      "3.7259481599999997\n",
      "\n",
      "Trade #0\n",
      "  Currency 0: ['0.0000', '0.0000', '0.0000', '1.3400']\n",
      "  Currency 1: ['0.0000', '0.0000', '0.0000', '1.9800']\n",
      "  Currency 2: ['0.0000', '0.0000', '0.0000', '0.6400']\n",
      "  Currency 3: ['0.0000', '0.0000', '0.0000', '1.0000']\n",
      "\n",
      "Trade #1\n",
      "  Currency 0: ['0.0000', '0.0000', '0.0000', '0.0000']\n",
      "  Currency 1: ['0.0000', '0.0000', '0.0000', '0.0000']\n",
      "  Currency 2: ['0.0000', '0.0000', '0.0000', '0.0000']\n",
      "  Currency 3: ['1.7956', '3.9204', '0.4096', '1.0000']\n",
      "\n",
      "Trade #2\n",
      "  Currency 0: ['0.0000', '0.0000', '0.0000', '1.2928']\n",
      "  Currency 1: ['0.0000', '0.0000', '0.0000', '1.8818']\n",
      "  Currency 2: ['0.0000', '0.0000', '0.0000', '0.6103']\n",
      "  Currency 3: ['0.0000', '0.0000', '0.0000', '1.0000']\n",
      "\n",
      "Trade #3\n",
      "  Currency 0: ['0.0000', '0.0000', '0.0000', '0.0000']\n",
      "  Currency 1: ['0.0000', '0.0000', '0.0000', '0.0000']\n",
      "  Currency 2: ['0.0000', '0.0000', '0.0000', '0.0000']\n",
      "  Currency 3: ['1.7324', '3.7259', '0.3906', '1.0000']\n",
      "\n",
      "Trade #4\n",
      "  Currency 0: ['0.0000', '0.0000', '0.0000', '0.0000']\n",
      "  Currency 1: ['0.0000', '0.0000', '0.0000', '0.0000']\n",
      "  Currency 2: ['0.0000', '0.0000', '0.0000', '0.0000']\n",
      "  Currency 3: ['0.0000', '0.0000', '0.0000', '3.7259']\n"
     ]
    }
   ],
   "source": [
    "# n = int(input())\n",
    "n = 1\n",
    "\n",
    "trades = [\n",
    "    [1, 1.45, 0.52, 0.72],   # snowballs\n",
    "    [0.7, 1, 0.31, 0.48],    # pizzas\n",
    "    [1.95, 3.1, 1, 1.49],    # silicon nuggets\n",
    "    [1.34, 1.98, 0.64, 1]    # seashells\n",
    "]\n",
    "\n",
    "# store[trade num][current currency][prev currency]\n",
    "store = [[[0.0 for _ in range(4)] for _ in range(4)] for _ in range(5)]\n",
    "\n",
    "# start trading from seashells (index 3)\n",
    "for i in range(4):\n",
    "    store[0][i][3] = trades[3][i]\n",
    "\n",
    "# i + 1 is number of trades: max 5 trades\n",
    "for i in range(1, 4):\n",
    "    for j in range(4):  # current currency\n",
    "        for k in range(4):  # previous currency\n",
    "            store[i][j][k] = max(store[i][j][k], store[i-1][k][j] * trades[j][k])\n",
    "\n",
    "# on the last trade, go back to seashells from each currency\n",
    "for i in range(4):\n",
    "    for j in range(4):\n",
    "        store[4][3][i] = max(store[4][3][i], trades[i][3] * store[3][i][j])\n",
    "\n",
    "# find the maximum value after 5 trades\n",
    "max_value = max(store[4][3])\n",
    "print(max_value)\n",
    "\n",
    "# Print store table\n",
    "for t, trade_level in enumerate(store):\n",
    "    print(f\"\\nTrade #{t}\")\n",
    "    for i, row in enumerate(trade_level):\n",
    "        print(f\"  Currency {i}: {['{:.4f}'.format(val) for val in row]}\")"
   ]
  }
 ],
 "metadata": {
  "kernelspec": {
   "display_name": "venv",
   "language": "python",
   "name": "python3"
  },
  "language_info": {
   "codemirror_mode": {
    "name": "ipython",
    "version": 3
   },
   "file_extension": ".py",
   "mimetype": "text/x-python",
   "name": "python",
   "nbconvert_exporter": "python",
   "pygments_lexer": "ipython3",
   "version": "3.12.4"
  }
 },
 "nbformat": 4,
 "nbformat_minor": 5
}
