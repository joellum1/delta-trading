{
 "cells": [
  {
   "cell_type": "markdown",
   "id": "0",
   "metadata": {},
   "source": [
    "# Trialling Trading Strategies"
   ]
  },
  {
   "cell_type": "code",
   "execution_count": null,
   "id": "1",
   "metadata": {},
   "outputs": [],
   "source": [
    "# Available imports\n",
    "import pandas as pd\n",
    "import numpy as np\n",
    "import statistics\n",
    "import math\n",
    "\n",
    "# Illegal import but only used for graphing\n",
    "# NOTE: rerunning setup_env.py will install these for you :)\n",
    "import matplotlib.pyplot as plt\n",
    "import plotly.graph_objects as go"
   ]
  },
  {
   "cell_type": "markdown",
   "id": "2",
   "metadata": {},
   "source": [
    "## Moving Averages"
   ]
  },
  {
   "cell_type": "code",
   "execution_count": null,
   "id": "3",
   "metadata": {},
   "outputs": [],
   "source": [
    "df = pd.read_csv('round-2-island-data-bottle/prices_round_2_day_-1.csv', sep=\";\")"
   ]
  },
  {
   "cell_type": "markdown",
   "id": "4",
   "metadata": {},
   "source": [
    "### Kelp"
   ]
  },
  {
   "cell_type": "code",
   "execution_count": null,
   "id": "5",
   "metadata": {},
   "outputs": [],
   "source": [
    "short_window = 50\n",
    "long_window = 200"
   ]
  },
  {
   "cell_type": "code",
   "execution_count": null,
   "id": "6",
   "metadata": {},
   "outputs": [],
   "source": [
    "# Filter product\n",
    "product = \"KELP\"\n",
    "kelp_df = df[df['product'] == product].copy()\n",
    "kelp_df = kelp_df.sort_values(by='timestamp')  # ensure correct time order\n",
    "\n",
    "kelp_df['SMA_short'] = kelp_df['mid_price'].rolling(window=short_window, min_periods=1).mean()\n",
    "kelp_df['SMA_long'] = kelp_df['mid_price'].rolling(window=long_window, min_periods=1).mean()\n",
    "\n",
    "# Generate Signals\n",
    "kelp_df['Signal'] = 0\n",
    "kelp_df.loc[kelp_df['SMA_short'] < kelp_df['SMA_long'], 'Signal'] = 1  # long\n",
    "kelp_df.loc[kelp_df['SMA_short'] > kelp_df['SMA_long'], 'Signal'] = -1 # short\n",
    "\n",
    "kelp_df['Position'] = kelp_df['Signal'].shift(1)  # avoid lookahead bias\n",
    "\n",
    "# Calculate Returns\n",
    "kelp_df['Price_Return'] = kelp_df['mid_price'].pct_change()\n",
    "kelp_df['Strategy_Return'] = kelp_df['Position'] * kelp_df['Price_Return']\n",
    "kelp_df['Cumulative_Strategy'] = (1 + kelp_df['Strategy_Return']).cumprod()\n",
    "kelp_df['Cumulative_Market'] = (1 + kelp_df['Price_Return']).cumprod()\n",
    "\n",
    "# Plot\n",
    "plt.figure(figsize=(14,6))\n",
    "plt.plot(kelp_df['timestamp'], kelp_df['Cumulative_Market'], label='Buy & Hold', linestyle='--')\n",
    "plt.plot(kelp_df['timestamp'], kelp_df['Cumulative_Strategy'], label='MA Strategy')\n",
    "plt.title(f'Moving Average Backtest: {product}')\n",
    "plt.xlabel('Timestamp')\n",
    "plt.ylabel('Cumulative Return')\n",
    "plt.legend()\n",
    "plt.grid()\n",
    "plt.show()\n"
   ]
  },
  {
   "cell_type": "code",
   "execution_count": null,
   "id": "7",
   "metadata": {},
   "outputs": [],
   "source": [
    "kelp_df['short_ma'] = kelp_df['mid_price'].rolling(window=short_window).mean()\n",
    "kelp_df['long_ma'] = kelp_df['mid_price'].rolling(window=long_window).mean()\n",
    "\n",
    "# Define Buy and Sell signals\n",
    "kelp_df['buy_signal'] = np.where(kelp_df['short_ma'] < kelp_df['long_ma'], 1, 0)\n",
    "kelp_df['sell_signal'] = np.where(kelp_df['short_ma'] > kelp_df['long_ma'], 1, 0)\n",
    "\n",
    "# Create the plotly figure\n",
    "fig = go.Figure()\n",
    "\n",
    "# Add the KELP Price line\n",
    "fig.add_trace(go.Scatter(x=kelp_df['timestamp'], y=kelp_df['mid_price'], mode='lines', name='KELP Price', line=dict(color='blue')))\n",
    "\n",
    "# Add short-term moving average\n",
    "fig.add_trace(go.Scatter(x=kelp_df['timestamp'], y=kelp_df['short_ma'], mode='lines', name='Short-term MA (5)', line=dict(color='green')))\n",
    "\n",
    "# Add long-term moving average\n",
    "fig.add_trace(go.Scatter(x=kelp_df['timestamp'], y=kelp_df['long_ma'], mode='lines', name='Long-term MA (20)', line=dict(color='red')))\n",
    "\n",
    "# Add buy signals (green dots)\n",
    "fig.add_trace(go.Scatter(x=kelp_df['timestamp'][kelp_df['buy_signal'] == 1], \n",
    "                         y=kelp_df['mid_price'][kelp_df['buy_signal'] == 1], \n",
    "                         mode='markers', \n",
    "                         name='Buy Signal', \n",
    "                         marker=dict(color='green', size=8)))\n",
    "\n",
    "# Add sell signals (red dots)\n",
    "fig.add_trace(go.Scatter(x=kelp_df['timestamp'][kelp_df['sell_signal'] == 1], \n",
    "                         y=kelp_df['mid_price'][kelp_df['sell_signal'] == 1], \n",
    "                         mode='markers', \n",
    "                         name='Sell Signal', \n",
    "                         marker=dict(color='red', size=8)))\n",
    "\n",
    "# Update layout for better appearance\n",
    "fig.update_layout(title='KELP Price with Moving Averages and Buy/Sell Signals',\n",
    "                  xaxis_title='Timestamp',\n",
    "                  yaxis_title='Price',\n",
    "                  template='plotly_dark',  # Optional: for dark background\n",
    "                  hovermode='x unified')  # Show all info on hover\n",
    "\n",
    "# Show the interactive plot\n",
    "fig.show()"
   ]
  }
 ],
 "metadata": {
  "kernelspec": {
   "display_name": "venv",
   "language": "python",
   "name": "python3"
  },
  "language_info": {
   "codemirror_mode": {
    "name": "ipython",
    "version": 3
   },
   "file_extension": ".py",
   "mimetype": "text/x-python",
   "name": "python",
   "nbconvert_exporter": "python",
   "pygments_lexer": "ipython3",
   "version": "3.12.4"
  }
 },
 "nbformat": 4,
 "nbformat_minor": 5
}
